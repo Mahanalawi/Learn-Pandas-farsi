{
 "cells": [
  {
   "cell_type": "markdown",
   "metadata": {},
   "source": [
    "<p dir = 'rtl'>  درس دوم.بخش سوم (series) </p>"
   ]
  },
  {
   "cell_type": "code",
   "execution_count": 1,
   "metadata": {},
   "outputs": [],
   "source": [
    "import pandas as pd"
   ]
  },
  {
   "cell_type": "code",
   "execution_count": 2,
   "metadata": {},
   "outputs": [
    {
     "data": {
      "text/html": [
       "<div>\n",
       "<style scoped>\n",
       "    .dataframe tbody tr th:only-of-type {\n",
       "        vertical-align: middle;\n",
       "    }\n",
       "\n",
       "    .dataframe tbody tr th {\n",
       "        vertical-align: top;\n",
       "    }\n",
       "\n",
       "    .dataframe thead th {\n",
       "        text-align: right;\n",
       "    }\n",
       "</style>\n",
       "<table border=\"1\" class=\"dataframe\">\n",
       "  <thead>\n",
       "    <tr style=\"text-align: right;\">\n",
       "      <th></th>\n",
       "      <th>Date</th>\n",
       "      <th>Open</th>\n",
       "      <th>High</th>\n",
       "      <th>Low</th>\n",
       "      <th>Close</th>\n",
       "      <th>Adj Close</th>\n",
       "      <th>Volume</th>\n",
       "    </tr>\n",
       "  </thead>\n",
       "  <tbody>\n",
       "    <tr>\n",
       "      <th>0</th>\n",
       "      <td>2021-04-30</td>\n",
       "      <td>53568.664063</td>\n",
       "      <td>57900.718750</td>\n",
       "      <td>53129.601563</td>\n",
       "      <td>57750.175781</td>\n",
       "      <td>57750.175781</td>\n",
       "      <td>52395931985</td>\n",
       "    </tr>\n",
       "    <tr>\n",
       "      <th>1</th>\n",
       "      <td>2021-05-01</td>\n",
       "      <td>57714.664063</td>\n",
       "      <td>58448.339844</td>\n",
       "      <td>57052.273438</td>\n",
       "      <td>57828.050781</td>\n",
       "      <td>57828.050781</td>\n",
       "      <td>42836427360</td>\n",
       "    </tr>\n",
       "    <tr>\n",
       "      <th>2</th>\n",
       "      <td>2021-05-02</td>\n",
       "      <td>57825.863281</td>\n",
       "      <td>57902.593750</td>\n",
       "      <td>56141.906250</td>\n",
       "      <td>56631.078125</td>\n",
       "      <td>56631.078125</td>\n",
       "      <td>38177405335</td>\n",
       "    </tr>\n",
       "    <tr>\n",
       "      <th>3</th>\n",
       "      <td>2021-05-03</td>\n",
       "      <td>56620.273438</td>\n",
       "      <td>58973.308594</td>\n",
       "      <td>56590.871094</td>\n",
       "      <td>57200.292969</td>\n",
       "      <td>57200.292969</td>\n",
       "      <td>51713139031</td>\n",
       "    </tr>\n",
       "    <tr>\n",
       "      <th>4</th>\n",
       "      <td>2021-05-04</td>\n",
       "      <td>57214.179688</td>\n",
       "      <td>57214.179688</td>\n",
       "      <td>53191.425781</td>\n",
       "      <td>53333.539063</td>\n",
       "      <td>53333.539063</td>\n",
       "      <td>68564706967</td>\n",
       "    </tr>\n",
       "  </tbody>\n",
       "</table>\n",
       "</div>"
      ],
      "text/plain": [
       "         Date          Open          High           Low         Close  \\\n",
       "0  2021-04-30  53568.664063  57900.718750  53129.601563  57750.175781   \n",
       "1  2021-05-01  57714.664063  58448.339844  57052.273438  57828.050781   \n",
       "2  2021-05-02  57825.863281  57902.593750  56141.906250  56631.078125   \n",
       "3  2021-05-03  56620.273438  58973.308594  56590.871094  57200.292969   \n",
       "4  2021-05-04  57214.179688  57214.179688  53191.425781  53333.539063   \n",
       "\n",
       "      Adj Close       Volume  \n",
       "0  57750.175781  52395931985  \n",
       "1  57828.050781  42836427360  \n",
       "2  56631.078125  38177405335  \n",
       "3  57200.292969  51713139031  \n",
       "4  53333.539063  68564706967  "
      ]
     },
     "execution_count": 2,
     "metadata": {},
     "output_type": "execute_result"
    }
   ],
   "source": [
    "df = pd.read_csv('C:/Users/Mahi/Desktop/project Pandas/Data/btc-usd.csv')\n",
    "df.head()"
   ]
  },
  {
   "cell_type": "code",
   "execution_count": 3,
   "metadata": {},
   "outputs": [
    {
     "data": {
      "text/html": [
       "<div>\n",
       "<style scoped>\n",
       "    .dataframe tbody tr th:only-of-type {\n",
       "        vertical-align: middle;\n",
       "    }\n",
       "\n",
       "    .dataframe tbody tr th {\n",
       "        vertical-align: top;\n",
       "    }\n",
       "\n",
       "    .dataframe thead th {\n",
       "        text-align: right;\n",
       "    }\n",
       "</style>\n",
       "<table border=\"1\" class=\"dataframe\">\n",
       "  <thead>\n",
       "    <tr style=\"text-align: right;\">\n",
       "      <th></th>\n",
       "      <th>Open</th>\n",
       "      <th>High</th>\n",
       "      <th>Low</th>\n",
       "      <th>Close</th>\n",
       "      <th>Adj Close</th>\n",
       "      <th>Volume</th>\n",
       "    </tr>\n",
       "    <tr>\n",
       "      <th>Date</th>\n",
       "      <th></th>\n",
       "      <th></th>\n",
       "      <th></th>\n",
       "      <th></th>\n",
       "      <th></th>\n",
       "      <th></th>\n",
       "    </tr>\n",
       "  </thead>\n",
       "  <tbody>\n",
       "    <tr>\n",
       "      <th>2021-04-30</th>\n",
       "      <td>53568.664063</td>\n",
       "      <td>57900.718750</td>\n",
       "      <td>53129.601563</td>\n",
       "      <td>57750.175781</td>\n",
       "      <td>57750.175781</td>\n",
       "      <td>52395931985</td>\n",
       "    </tr>\n",
       "    <tr>\n",
       "      <th>2021-05-01</th>\n",
       "      <td>57714.664063</td>\n",
       "      <td>58448.339844</td>\n",
       "      <td>57052.273438</td>\n",
       "      <td>57828.050781</td>\n",
       "      <td>57828.050781</td>\n",
       "      <td>42836427360</td>\n",
       "    </tr>\n",
       "    <tr>\n",
       "      <th>2021-05-02</th>\n",
       "      <td>57825.863281</td>\n",
       "      <td>57902.593750</td>\n",
       "      <td>56141.906250</td>\n",
       "      <td>56631.078125</td>\n",
       "      <td>56631.078125</td>\n",
       "      <td>38177405335</td>\n",
       "    </tr>\n",
       "    <tr>\n",
       "      <th>2021-05-03</th>\n",
       "      <td>56620.273438</td>\n",
       "      <td>58973.308594</td>\n",
       "      <td>56590.871094</td>\n",
       "      <td>57200.292969</td>\n",
       "      <td>57200.292969</td>\n",
       "      <td>51713139031</td>\n",
       "    </tr>\n",
       "    <tr>\n",
       "      <th>2021-05-04</th>\n",
       "      <td>57214.179688</td>\n",
       "      <td>57214.179688</td>\n",
       "      <td>53191.425781</td>\n",
       "      <td>53333.539063</td>\n",
       "      <td>53333.539063</td>\n",
       "      <td>68564706967</td>\n",
       "    </tr>\n",
       "  </tbody>\n",
       "</table>\n",
       "</div>"
      ],
      "text/plain": [
       "                    Open          High           Low         Close  \\\n",
       "Date                                                                 \n",
       "2021-04-30  53568.664063  57900.718750  53129.601563  57750.175781   \n",
       "2021-05-01  57714.664063  58448.339844  57052.273438  57828.050781   \n",
       "2021-05-02  57825.863281  57902.593750  56141.906250  56631.078125   \n",
       "2021-05-03  56620.273438  58973.308594  56590.871094  57200.292969   \n",
       "2021-05-04  57214.179688  57214.179688  53191.425781  53333.539063   \n",
       "\n",
       "               Adj Close       Volume  \n",
       "Date                                   \n",
       "2021-04-30  57750.175781  52395931985  \n",
       "2021-05-01  57828.050781  42836427360  \n",
       "2021-05-02  56631.078125  38177405335  \n",
       "2021-05-03  57200.292969  51713139031  \n",
       "2021-05-04  53333.539063  68564706967  "
      ]
     },
     "execution_count": 3,
     "metadata": {},
     "output_type": "execute_result"
    }
   ],
   "source": [
    "df = pd.read_csv('C:/Users/Mahi/Desktop/project Pandas/Data/btc-usd.csv', \n",
    "                 index_col='Date', \n",
    "                 parse_dates=['Date'])\n",
    "df.head()"
   ]
  },
  {
   "cell_type": "code",
   "execution_count": 4,
   "metadata": {},
   "outputs": [
    {
     "data": {
      "text/plain": [
       "DatetimeIndex(['2021-04-30', '2021-05-01', '2021-05-02', '2021-05-03',\n",
       "               '2021-05-04', '2021-05-05', '2021-05-06', '2021-05-07',\n",
       "               '2021-05-08', '2021-05-09',\n",
       "               ...\n",
       "               '2022-04-21', '2022-04-22', '2022-04-23', '2022-04-24',\n",
       "               '2022-04-25', '2022-04-26', '2022-04-27', '2022-04-28',\n",
       "               '2022-04-29', '2022-04-30'],\n",
       "              dtype='datetime64[ns]', name='Date', length=366, freq=None)"
      ]
     },
     "execution_count": 4,
     "metadata": {},
     "output_type": "execute_result"
    }
   ],
   "source": [
    "df.index"
   ]
  },
  {
   "cell_type": "code",
   "execution_count": 5,
   "metadata": {},
   "outputs": [
    {
     "data": {
      "text/plain": [
       "Date\n",
       "2021-04-30    57750.175781\n",
       "2021-05-01    57828.050781\n",
       "2021-05-02    56631.078125\n",
       "2021-05-03    57200.292969\n",
       "2021-05-04    53333.539063\n",
       "                  ...     \n",
       "2022-04-26    38117.460938\n",
       "2022-04-27    39241.121094\n",
       "2022-04-28    39773.828125\n",
       "2022-04-29    38609.824219\n",
       "2022-04-30    38281.816406\n",
       "Name: Close, Length: 366, dtype: float64"
      ]
     },
     "execution_count": 5,
     "metadata": {},
     "output_type": "execute_result"
    }
   ],
   "source": [
    "df['Close']"
   ]
  },
  {
   "cell_type": "code",
   "execution_count": 6,
   "metadata": {},
   "outputs": [
    {
     "data": {
      "text/plain": [
       "pandas.core.series.Series"
      ]
     },
     "execution_count": 6,
     "metadata": {},
     "output_type": "execute_result"
    }
   ],
   "source": [
    "type(df['Close'])"
   ]
  },
  {
   "cell_type": "code",
   "execution_count": null,
   "metadata": {},
   "outputs": [],
   "source": []
  },
  {
   "cell_type": "code",
   "execution_count": 7,
   "metadata": {},
   "outputs": [
    {
     "data": {
      "text/plain": [
       "Date\n",
       "2021-04-30    57750.175781\n",
       "2021-05-01    57828.050781\n",
       "2021-05-02    56631.078125\n",
       "2021-05-03    57200.292969\n",
       "2021-05-04    53333.539063\n",
       "Name: Close, dtype: float64"
      ]
     },
     "execution_count": 7,
     "metadata": {},
     "output_type": "execute_result"
    }
   ],
   "source": [
    "s1 = pd.read_csv(\n",
    "    'C:/Users/Mahi/Desktop/project Pandas/Data/btc-usd.csv',\n",
    "    index_col='Date',\n",
    "    parse_dates=['Date']\n",
    ")['Close']\n",
    "s1.head()"
   ]
  },
  {
   "cell_type": "code",
   "execution_count": 8,
   "metadata": {},
   "outputs": [
    {
     "data": {
      "text/plain": [
       "Date\n",
       "2021-04-30    57750.175781\n",
       "2021-05-01    57828.050781\n",
       "2021-05-02    56631.078125\n",
       "2021-05-03    57200.292969\n",
       "2021-05-04    53333.539063\n",
       "2021-05-05    57424.007813\n",
       "2021-05-06    56396.515625\n",
       "2021-05-07    57356.402344\n",
       "2021-05-08    58803.777344\n",
       "2021-05-09    58232.316406\n",
       "Name: Close, dtype: float64"
      ]
     },
     "execution_count": 8,
     "metadata": {},
     "output_type": "execute_result"
    }
   ],
   "source": [
    "s2 = pd.read_csv(\n",
    "    'C:/Users/Mahi/Desktop/project Pandas/Data/btc-usd.csv',\n",
    "    index_col='Date',\n",
    "    parse_dates=['Date'],\n",
    "    usecols=['Date','Close'],\n",
    ").squeeze()\n",
    "s2.head(10)"
   ]
  },
  {
   "cell_type": "code",
   "execution_count": 9,
   "metadata": {},
   "outputs": [
    {
     "data": {
      "text/plain": [
       "Date\n",
       "2021-04-30    57750.175781\n",
       "2021-05-01    57828.050781\n",
       "2021-05-02    56631.078125\n",
       "2021-05-03    57200.292969\n",
       "2021-05-04    53333.539063\n",
       "2021-05-05    57424.007813\n",
       "2021-05-06    56396.515625\n",
       "2021-05-07    57356.402344\n",
       "2021-05-08    58803.777344\n",
       "2021-05-09    58232.316406\n",
       "Name: Close, dtype: float64"
      ]
     },
     "execution_count": 9,
     "metadata": {},
     "output_type": "execute_result"
    }
   ],
   "source": [
    "s3 = pd.read_csv(\n",
    "    'C:/Users/Mahi/Desktop/project Pandas/Data/employees.csv',\n",
    "    index_col='First Name',\n",
    "    usecols=['First Name','Salary'],\n",
    ").squeeze()\n",
    "s1.head(10)"
   ]
  },
  {
   "cell_type": "code",
   "execution_count": 10,
   "metadata": {},
   "outputs": [
    {
     "data": {
      "text/plain": [
       "1001"
      ]
     },
     "execution_count": 10,
     "metadata": {},
     "output_type": "execute_result"
    }
   ],
   "source": [
    "len(s3)"
   ]
  },
  {
   "cell_type": "code",
   "execution_count": 11,
   "metadata": {},
   "outputs": [
    {
     "data": {
      "text/plain": [
       "999"
      ]
     },
     "execution_count": 11,
     "metadata": {},
     "output_type": "execute_result"
    }
   ],
   "source": [
    "s3.count()"
   ]
  },
  {
   "cell_type": "code",
   "execution_count": 12,
   "metadata": {},
   "outputs": [
    {
     "data": {
      "text/plain": [
       "count       999.000000\n",
       "mean      90655.528529\n",
       "std       32939.511615\n",
       "min       35013.000000\n",
       "25%       62560.000000\n",
       "50%       90427.000000\n",
       "75%      118744.500000\n",
       "max      149908.000000\n",
       "Name: Salary, dtype: float64"
      ]
     },
     "execution_count": 12,
     "metadata": {},
     "output_type": "execute_result"
    }
   ],
   "source": [
    "s3.describe()"
   ]
  },
  {
   "cell_type": "code",
   "execution_count": 13,
   "metadata": {},
   "outputs": [
    {
     "data": {
      "text/plain": [
       "First Name\n",
       "Michael       35013.0\n",
       "Kevin         35061.0\n",
       "Steven        35095.0\n",
       "Matthew       35203.0\n",
       "Cynthia       35381.0\n",
       "               ...   \n",
       "Cynthia      149684.0\n",
       "Rose         149903.0\n",
       "Katherine    149908.0\n",
       "Douglas           NaN\n",
       "NaN               NaN\n",
       "Name: Salary, Length: 1001, dtype: float64"
      ]
     },
     "execution_count": 13,
     "metadata": {},
     "output_type": "execute_result"
    }
   ],
   "source": [
    "s3.sort_values()"
   ]
  },
  {
   "cell_type": "code",
   "execution_count": 14,
   "metadata": {},
   "outputs": [
    {
     "data": {
      "text/plain": [
       "First Name\n",
       "Katherine    149908.0\n",
       "Rose         149903.0\n",
       "Cynthia      149684.0\n",
       "NaN          149654.0\n",
       "Kathy        149563.0\n",
       "               ...   \n",
       "Steven        35095.0\n",
       "Kevin         35061.0\n",
       "Michael       35013.0\n",
       "Douglas           NaN\n",
       "NaN               NaN\n",
       "Name: Salary, Length: 1001, dtype: float64"
      ]
     },
     "execution_count": 14,
     "metadata": {},
     "output_type": "execute_result"
    }
   ],
   "source": [
    "s3.sort_values(ascending=False)"
   ]
  },
  {
   "cell_type": "code",
   "execution_count": 15,
   "metadata": {},
   "outputs": [
    {
     "data": {
      "text/plain": [
       "First Name\n",
       "Douglas           NaN\n",
       "NaN               NaN\n",
       "Michael       35013.0\n",
       "Kevin         35061.0\n",
       "Steven        35095.0\n",
       "               ...   \n",
       "Kathy        149563.0\n",
       "NaN          149654.0\n",
       "Cynthia      149684.0\n",
       "Rose         149903.0\n",
       "Katherine    149908.0\n",
       "Name: Salary, Length: 1001, dtype: float64"
      ]
     },
     "execution_count": 15,
     "metadata": {},
     "output_type": "execute_result"
    }
   ],
   "source": [
    "s3.sort_values(na_position='first')"
   ]
  },
  {
   "cell_type": "code",
   "execution_count": 16,
   "metadata": {},
   "outputs": [
    {
     "data": {
      "text/plain": [
       "First Name\n",
       "Douglas           NaN\n",
       "NaN               NaN\n",
       "Katherine    149908.0\n",
       "Rose         149903.0\n",
       "Cynthia      149684.0\n",
       "               ...   \n",
       "Cynthia       35381.0\n",
       "Matthew       35203.0\n",
       "Steven        35095.0\n",
       "Kevin         35061.0\n",
       "Michael       35013.0\n",
       "Name: Salary, Length: 1001, dtype: float64"
      ]
     },
     "execution_count": 16,
     "metadata": {},
     "output_type": "execute_result"
    }
   ],
   "source": [
    "s3.sort_values(ascending=False, \n",
    "               na_position='first')"
   ]
  },
  {
   "cell_type": "code",
   "execution_count": 17,
   "metadata": {},
   "outputs": [
    {
     "data": {
      "text/plain": [
       "First Name\n",
       "Thomas      61933.0\n",
       "Maria      130590.0\n",
       "Jerry      138705.0\n",
       "Larry      101004.0\n",
       "Dennis     115163.0\n",
       "             ...   \n",
       "Henry      132483.0\n",
       "Phillip     42392.0\n",
       "Russell     96914.0\n",
       "Larry       60500.0\n",
       "Albert     129949.0\n",
       "Name: Salary, Length: 999, dtype: float64"
      ]
     },
     "execution_count": 17,
     "metadata": {},
     "output_type": "execute_result"
    }
   ],
   "source": [
    "s3.dropna()"
   ]
  },
  {
   "cell_type": "code",
   "execution_count": 18,
   "metadata": {},
   "outputs": [
    {
     "data": {
      "text/plain": [
       "First Name\n",
       "Michael       35013.0\n",
       "Kevin         35061.0\n",
       "Steven        35095.0\n",
       "Matthew       35203.0\n",
       "Cynthia       35381.0\n",
       "               ...   \n",
       "Kathy        149563.0\n",
       "NaN          149654.0\n",
       "Cynthia      149684.0\n",
       "Rose         149903.0\n",
       "Katherine    149908.0\n",
       "Name: Salary, Length: 999, dtype: float64"
      ]
     },
     "execution_count": 18,
     "metadata": {},
     "output_type": "execute_result"
    }
   ],
   "source": [
    "s3.dropna().sort_values()"
   ]
  },
  {
   "cell_type": "code",
   "execution_count": 19,
   "metadata": {},
   "outputs": [
    {
     "data": {
      "text/plain": [
       "First Name\n",
       "Aaron     61602.0\n",
       "Aaron     58755.0\n",
       "Aaron     52119.0\n",
       "Aaron     63126.0\n",
       "Adam      95327.0\n",
       "           ...   \n",
       "NaN       95866.0\n",
       "NaN      133472.0\n",
       "NaN      107351.0\n",
       "NaN      143638.0\n",
       "NaN           NaN\n",
       "Name: Salary, Length: 1001, dtype: float64"
      ]
     },
     "execution_count": 19,
     "metadata": {},
     "output_type": "execute_result"
    }
   ],
   "source": [
    "s3.sort_index()"
   ]
  },
  {
   "cell_type": "code",
   "execution_count": 20,
   "metadata": {},
   "outputs": [
    {
     "data": {
      "text/plain": [
       "First Name\n",
       "Aaron     61602.0\n",
       "Aaron     58755.0\n",
       "Aaron     52119.0\n",
       "Aaron     63126.0\n",
       "Adam      95327.0\n",
       "Adam     110194.0\n",
       "Adam      71276.0\n",
       "Adam      45181.0\n",
       "Alan     111786.0\n",
       "Alan      40341.0\n",
       "Name: Salary, dtype: float64"
      ]
     },
     "execution_count": 20,
     "metadata": {},
     "output_type": "execute_result"
    }
   ],
   "source": [
    "s3.sort_index().head(10)"
   ]
  },
  {
   "cell_type": "code",
   "execution_count": 21,
   "metadata": {},
   "outputs": [
    {
     "data": {
      "text/plain": [
       "First Name\n",
       "Willie     64363.0\n",
       "Willie    141932.0\n",
       "Willie     55038.0\n",
       "Willie    146651.0\n",
       "Willie     55281.0\n",
       "            ...   \n",
       "NaN        95866.0\n",
       "NaN       133472.0\n",
       "NaN       107351.0\n",
       "NaN       143638.0\n",
       "NaN            NaN\n",
       "Name: Salary, Length: 1001, dtype: float64"
      ]
     },
     "execution_count": 21,
     "metadata": {},
     "output_type": "execute_result"
    }
   ],
   "source": [
    "s3.sort_index(ascending=False)"
   ]
  },
  {
   "cell_type": "code",
   "execution_count": 22,
   "metadata": {},
   "outputs": [
    {
     "data": {
      "text/plain": [
       "First Name\n",
       "NaN        45906.0\n",
       "NaN       125792.0\n",
       "NaN        37076.0\n",
       "NaN       122340.0\n",
       "NaN       122173.0\n",
       "            ...   \n",
       "Willie     55038.0\n",
       "Willie     64363.0\n",
       "Willie    146651.0\n",
       "Willie     55281.0\n",
       "Willie    141932.0\n",
       "Name: Salary, Length: 1001, dtype: float64"
      ]
     },
     "execution_count": 22,
     "metadata": {},
     "output_type": "execute_result"
    }
   ],
   "source": [
    "s3.sort_index(na_position='first')"
   ]
  },
  {
   "cell_type": "code",
   "execution_count": 23,
   "metadata": {},
   "outputs": [
    {
     "data": {
      "text/plain": [
       "First Name\n",
       "Katherine    149908.0\n",
       "Rose         149903.0\n",
       "Cynthia      149684.0\n",
       "Name: Salary, dtype: float64"
      ]
     },
     "execution_count": 23,
     "metadata": {},
     "output_type": "execute_result"
    }
   ],
   "source": [
    "s3.nlargest(3)"
   ]
  },
  {
   "cell_type": "code",
   "execution_count": 24,
   "metadata": {},
   "outputs": [
    {
     "data": {
      "text/plain": [
       "First Name\n",
       "Michael      35013.0\n",
       "Kevin        35061.0\n",
       "Steven       35095.0\n",
       "Matthew      35203.0\n",
       "Cynthia      35381.0\n",
       "Christina    35477.0\n",
       "Kathleen     35575.0\n",
       "Terry        35633.0\n",
       "Bruce        35802.0\n",
       "Frances      35884.0\n",
       "Name: Salary, dtype: float64"
      ]
     },
     "execution_count": 24,
     "metadata": {},
     "output_type": "execute_result"
    }
   ],
   "source": [
    "s3.nsmallest(10)"
   ]
  },
  {
   "cell_type": "code",
   "execution_count": 25,
   "metadata": {},
   "outputs": [
    {
     "data": {
      "text/plain": [
       "count       10.000000\n",
       "mean     35412.400000\n",
       "std        313.058461\n",
       "min      35013.000000\n",
       "25%      35122.000000\n",
       "50%      35429.000000\n",
       "75%      35618.500000\n",
       "max      35884.000000\n",
       "Name: Salary, dtype: float64"
      ]
     },
     "execution_count": 25,
     "metadata": {},
     "output_type": "execute_result"
    }
   ],
   "source": [
    "s3.nsmallest(10).describe()"
   ]
  },
  {
   "cell_type": "code",
   "execution_count": 26,
   "metadata": {},
   "outputs": [
    {
     "data": {
      "text/plain": [
       "count        10.000000\n",
       "mean     149405.600000\n",
       "std         401.444115\n",
       "min      148857.000000\n",
       "25%      149015.000000\n",
       "50%      149509.500000\n",
       "75%      149676.500000\n",
       "max      149908.000000\n",
       "Name: Salary, dtype: float64"
      ]
     },
     "execution_count": 26,
     "metadata": {},
     "output_type": "execute_result"
    }
   ],
   "source": [
    "s3.nlargest(10).describe()"
   ]
  },
  {
   "cell_type": "code",
   "execution_count": 27,
   "metadata": {},
   "outputs": [
    {
     "data": {
      "text/plain": [
       "First Name\n",
       "Douglas         NaN\n",
       "Thomas      61933.0\n",
       "Maria      130590.0\n",
       "Jerry      138705.0\n",
       "Larry      101004.0\n",
       "Dennis     115163.0\n",
       "Ruby        65476.0\n",
       "NaN         45906.0\n",
       "Angela      95570.0\n",
       "Frances    139852.0\n",
       "Name: Salary, dtype: float64"
      ]
     },
     "execution_count": 27,
     "metadata": {},
     "output_type": "execute_result"
    }
   ],
   "source": [
    "s4 = pd.read_csv(\n",
    "    'C:/Users/Mahi/Desktop/project Pandas/Data/employees.csv',\n",
    "    index_col='First Name',\n",
    "    usecols=['First Name','Salary'],\n",
    ").squeeze()\n",
    "s4.head(10)"
   ]
  },
  {
   "cell_type": "code",
   "execution_count": 28,
   "metadata": {},
   "outputs": [
    {
     "data": {
      "text/plain": [
       "First Name\n",
       "Thomas      61933.0\n",
       "Maria      130590.0\n",
       "Jerry      138705.0\n",
       "Larry      101004.0\n",
       "Dennis     115163.0\n",
       "             ...   \n",
       "Henry      132483.0\n",
       "Phillip     42392.0\n",
       "Russell     96914.0\n",
       "Larry       60500.0\n",
       "Albert     129949.0\n",
       "Name: Salary, Length: 999, dtype: float64"
      ]
     },
     "execution_count": 28,
     "metadata": {},
     "output_type": "execute_result"
    }
   ],
   "source": [
    "s4.dropna()"
   ]
  },
  {
   "cell_type": "code",
   "execution_count": 29,
   "metadata": {},
   "outputs": [
    {
     "data": {
      "text/plain": [
       "First Name\n",
       "Douglas         NaN\n",
       "Thomas      61933.0\n",
       "Maria      130590.0\n",
       "Jerry      138705.0\n",
       "Larry      101004.0\n",
       "             ...   \n",
       "Phillip     42392.0\n",
       "Russell     96914.0\n",
       "Larry       60500.0\n",
       "Albert     129949.0\n",
       "NaN             NaN\n",
       "Name: Salary, Length: 1001, dtype: float64"
      ]
     },
     "execution_count": 29,
     "metadata": {},
     "output_type": "execute_result"
    }
   ],
   "source": [
    "s4"
   ]
  },
  {
   "cell_type": "code",
   "execution_count": 30,
   "metadata": {},
   "outputs": [],
   "source": [
    "s4.dropna(inplace=True)"
   ]
  },
  {
   "cell_type": "code",
   "execution_count": 31,
   "metadata": {},
   "outputs": [
    {
     "data": {
      "text/plain": [
       "First Name\n",
       "Thomas      61933.0\n",
       "Maria      130590.0\n",
       "Jerry      138705.0\n",
       "Larry      101004.0\n",
       "Dennis     115163.0\n",
       "             ...   \n",
       "Henry      132483.0\n",
       "Phillip     42392.0\n",
       "Russell     96914.0\n",
       "Larry       60500.0\n",
       "Albert     129949.0\n",
       "Name: Salary, Length: 999, dtype: float64"
      ]
     },
     "execution_count": 31,
     "metadata": {},
     "output_type": "execute_result"
    }
   ],
   "source": [
    "s4"
   ]
  },
  {
   "cell_type": "code",
   "execution_count": 32,
   "metadata": {},
   "outputs": [
    {
     "data": {
      "text/plain": [
       "First Name\n",
       "Michael       35013.0\n",
       "Kevin         35061.0\n",
       "Steven        35095.0\n",
       "Matthew       35203.0\n",
       "Cynthia       35381.0\n",
       "               ...   \n",
       "Kathy        149563.0\n",
       "NaN          149654.0\n",
       "Cynthia      149684.0\n",
       "Rose         149903.0\n",
       "Katherine    149908.0\n",
       "Name: Salary, Length: 999, dtype: float64"
      ]
     },
     "execution_count": 32,
     "metadata": {},
     "output_type": "execute_result"
    }
   ],
   "source": [
    "s4.sort_values()"
   ]
  },
  {
   "cell_type": "code",
   "execution_count": 33,
   "metadata": {},
   "outputs": [
    {
     "data": {
      "text/plain": [
       "First Name\n",
       "Thomas      61933.0\n",
       "Maria      130590.0\n",
       "Jerry      138705.0\n",
       "Larry      101004.0\n",
       "Dennis     115163.0\n",
       "             ...   \n",
       "Henry      132483.0\n",
       "Phillip     42392.0\n",
       "Russell     96914.0\n",
       "Larry       60500.0\n",
       "Albert     129949.0\n",
       "Name: Salary, Length: 999, dtype: float64"
      ]
     },
     "execution_count": 33,
     "metadata": {},
     "output_type": "execute_result"
    }
   ],
   "source": [
    "s4"
   ]
  },
  {
   "cell_type": "code",
   "execution_count": 34,
   "metadata": {},
   "outputs": [],
   "source": [
    "s4.sort_values(inplace=True)"
   ]
  },
  {
   "cell_type": "code",
   "execution_count": 35,
   "metadata": {},
   "outputs": [
    {
     "data": {
      "text/plain": [
       "First Name\n",
       "Michael       35013.0\n",
       "Kevin         35061.0\n",
       "Steven        35095.0\n",
       "Matthew       35203.0\n",
       "Cynthia       35381.0\n",
       "               ...   \n",
       "Kathy        149563.0\n",
       "NaN          149654.0\n",
       "Cynthia      149684.0\n",
       "Rose         149903.0\n",
       "Katherine    149908.0\n",
       "Name: Salary, Length: 999, dtype: float64"
      ]
     },
     "execution_count": 35,
     "metadata": {},
     "output_type": "execute_result"
    }
   ],
   "source": [
    "s4"
   ]
  },
  {
   "cell_type": "code",
   "execution_count": 36,
   "metadata": {},
   "outputs": [
    {
     "data": {
      "text/html": [
       "<div>\n",
       "<style scoped>\n",
       "    .dataframe tbody tr th:only-of-type {\n",
       "        vertical-align: middle;\n",
       "    }\n",
       "\n",
       "    .dataframe tbody tr th {\n",
       "        vertical-align: top;\n",
       "    }\n",
       "\n",
       "    .dataframe thead th {\n",
       "        text-align: right;\n",
       "    }\n",
       "</style>\n",
       "<table border=\"1\" class=\"dataframe\">\n",
       "  <thead>\n",
       "    <tr style=\"text-align: right;\">\n",
       "      <th></th>\n",
       "      <th>rating</th>\n",
       "      <th>genre</th>\n",
       "      <th>year</th>\n",
       "      <th>release_date</th>\n",
       "      <th>release_country</th>\n",
       "      <th>score</th>\n",
       "      <th>votes</th>\n",
       "      <th>director</th>\n",
       "      <th>writer</th>\n",
       "      <th>star</th>\n",
       "      <th>country</th>\n",
       "      <th>budget</th>\n",
       "      <th>gross</th>\n",
       "      <th>company</th>\n",
       "      <th>runtime</th>\n",
       "    </tr>\n",
       "    <tr>\n",
       "      <th>name</th>\n",
       "      <th></th>\n",
       "      <th></th>\n",
       "      <th></th>\n",
       "      <th></th>\n",
       "      <th></th>\n",
       "      <th></th>\n",
       "      <th></th>\n",
       "      <th></th>\n",
       "      <th></th>\n",
       "      <th></th>\n",
       "      <th></th>\n",
       "      <th></th>\n",
       "      <th></th>\n",
       "      <th></th>\n",
       "      <th></th>\n",
       "    </tr>\n",
       "  </thead>\n",
       "  <tbody>\n",
       "    <tr>\n",
       "      <th>The Shining</th>\n",
       "      <td>R</td>\n",
       "      <td>Drama</td>\n",
       "      <td>1980</td>\n",
       "      <td>June 13, 1980</td>\n",
       "      <td>United States</td>\n",
       "      <td>8.4</td>\n",
       "      <td>927000.0</td>\n",
       "      <td>Stanley Kubrick</td>\n",
       "      <td>Stephen King</td>\n",
       "      <td>Jack Nicholson</td>\n",
       "      <td>United Kingdom</td>\n",
       "      <td>19000000.0</td>\n",
       "      <td>46998772.0</td>\n",
       "      <td>Warner Bros.</td>\n",
       "      <td>146.0</td>\n",
       "    </tr>\n",
       "    <tr>\n",
       "      <th>The Blue Lagoon</th>\n",
       "      <td>R</td>\n",
       "      <td>Adventure</td>\n",
       "      <td>1980</td>\n",
       "      <td>July 2, 1980</td>\n",
       "      <td>United States</td>\n",
       "      <td>5.8</td>\n",
       "      <td>65000.0</td>\n",
       "      <td>Randal Kleiser</td>\n",
       "      <td>Henry De Vere Stacpoole</td>\n",
       "      <td>Brooke Shields</td>\n",
       "      <td>United States</td>\n",
       "      <td>4500000.0</td>\n",
       "      <td>58853106.0</td>\n",
       "      <td>Columbia Pictures</td>\n",
       "      <td>104.0</td>\n",
       "    </tr>\n",
       "    <tr>\n",
       "      <th>Star Wars: Episode V - The Empire Strikes Back</th>\n",
       "      <td>PG</td>\n",
       "      <td>Action</td>\n",
       "      <td>1980</td>\n",
       "      <td>June 20, 1980</td>\n",
       "      <td>United States</td>\n",
       "      <td>8.7</td>\n",
       "      <td>1200000.0</td>\n",
       "      <td>Irvin Kershner</td>\n",
       "      <td>Leigh Brackett</td>\n",
       "      <td>Mark Hamill</td>\n",
       "      <td>United States</td>\n",
       "      <td>18000000.0</td>\n",
       "      <td>538375067.0</td>\n",
       "      <td>Lucasfilm</td>\n",
       "      <td>124.0</td>\n",
       "    </tr>\n",
       "    <tr>\n",
       "      <th>Airplane!</th>\n",
       "      <td>PG</td>\n",
       "      <td>Comedy</td>\n",
       "      <td>1980</td>\n",
       "      <td>July 2, 1980</td>\n",
       "      <td>United States</td>\n",
       "      <td>7.7</td>\n",
       "      <td>221000.0</td>\n",
       "      <td>Jim Abrahams</td>\n",
       "      <td>Jim Abrahams</td>\n",
       "      <td>Robert Hays</td>\n",
       "      <td>United States</td>\n",
       "      <td>3500000.0</td>\n",
       "      <td>83453539.0</td>\n",
       "      <td>Paramount Pictures</td>\n",
       "      <td>88.0</td>\n",
       "    </tr>\n",
       "    <tr>\n",
       "      <th>Caddyshack</th>\n",
       "      <td>R</td>\n",
       "      <td>Comedy</td>\n",
       "      <td>1980</td>\n",
       "      <td>July 25, 1980</td>\n",
       "      <td>United States</td>\n",
       "      <td>7.3</td>\n",
       "      <td>108000.0</td>\n",
       "      <td>Harold Ramis</td>\n",
       "      <td>Brian Doyle-Murray</td>\n",
       "      <td>Chevy Chase</td>\n",
       "      <td>United States</td>\n",
       "      <td>6000000.0</td>\n",
       "      <td>39846344.0</td>\n",
       "      <td>Orion Pictures</td>\n",
       "      <td>98.0</td>\n",
       "    </tr>\n",
       "  </tbody>\n",
       "</table>\n",
       "</div>"
      ],
      "text/plain": [
       "                                               rating      genre  year  \\\n",
       "name                                                                     \n",
       "The Shining                                         R      Drama  1980   \n",
       "The Blue Lagoon                                     R  Adventure  1980   \n",
       "Star Wars: Episode V - The Empire Strikes Back     PG     Action  1980   \n",
       "Airplane!                                          PG     Comedy  1980   \n",
       "Caddyshack                                          R     Comedy  1980   \n",
       "\n",
       "                                                 release_date release_country  \\\n",
       "name                                                                            \n",
       "The Shining                                     June 13, 1980   United States   \n",
       "The Blue Lagoon                                  July 2, 1980   United States   \n",
       "Star Wars: Episode V - The Empire Strikes Back  June 20, 1980   United States   \n",
       "Airplane!                                        July 2, 1980   United States   \n",
       "Caddyshack                                      July 25, 1980   United States   \n",
       "\n",
       "                                                score      votes  \\\n",
       "name                                                               \n",
       "The Shining                                       8.4   927000.0   \n",
       "The Blue Lagoon                                   5.8    65000.0   \n",
       "Star Wars: Episode V - The Empire Strikes Back    8.7  1200000.0   \n",
       "Airplane!                                         7.7   221000.0   \n",
       "Caddyshack                                        7.3   108000.0   \n",
       "\n",
       "                                                       director  \\\n",
       "name                                                              \n",
       "The Shining                                     Stanley Kubrick   \n",
       "The Blue Lagoon                                  Randal Kleiser   \n",
       "Star Wars: Episode V - The Empire Strikes Back   Irvin Kershner   \n",
       "Airplane!                                          Jim Abrahams   \n",
       "Caddyshack                                         Harold Ramis   \n",
       "\n",
       "                                                                 writer  \\\n",
       "name                                                                      \n",
       "The Shining                                                Stephen King   \n",
       "The Blue Lagoon                                 Henry De Vere Stacpoole   \n",
       "Star Wars: Episode V - The Empire Strikes Back           Leigh Brackett   \n",
       "Airplane!                                                  Jim Abrahams   \n",
       "Caddyshack                                           Brian Doyle-Murray   \n",
       "\n",
       "                                                          star  \\\n",
       "name                                                             \n",
       "The Shining                                     Jack Nicholson   \n",
       "The Blue Lagoon                                 Brooke Shields   \n",
       "Star Wars: Episode V - The Empire Strikes Back     Mark Hamill   \n",
       "Airplane!                                          Robert Hays   \n",
       "Caddyshack                                         Chevy Chase   \n",
       "\n",
       "                                                       country      budget  \\\n",
       "name                                                                         \n",
       "The Shining                                     United Kingdom  19000000.0   \n",
       "The Blue Lagoon                                  United States   4500000.0   \n",
       "Star Wars: Episode V - The Empire Strikes Back   United States  18000000.0   \n",
       "Airplane!                                        United States   3500000.0   \n",
       "Caddyshack                                       United States   6000000.0   \n",
       "\n",
       "                                                      gross  \\\n",
       "name                                                          \n",
       "The Shining                                      46998772.0   \n",
       "The Blue Lagoon                                  58853106.0   \n",
       "Star Wars: Episode V - The Empire Strikes Back  538375067.0   \n",
       "Airplane!                                        83453539.0   \n",
       "Caddyshack                                       39846344.0   \n",
       "\n",
       "                                                           company  runtime  \n",
       "name                                                                         \n",
       "The Shining                                           Warner Bros.    146.0  \n",
       "The Blue Lagoon                                  Columbia Pictures    104.0  \n",
       "Star Wars: Episode V - The Empire Strikes Back           Lucasfilm    124.0  \n",
       "Airplane!                                       Paramount Pictures     88.0  \n",
       "Caddyshack                                          Orion Pictures     98.0  "
      ]
     },
     "execution_count": 36,
     "metadata": {},
     "output_type": "execute_result"
    }
   ],
   "source": [
    "df2 = pd.read_csv('C:/Users/Mahi/Desktop/project Pandas/Data/movies.csv', index_col='name')\n",
    "df2.head()"
   ]
  },
  {
   "cell_type": "code",
   "execution_count": 37,
   "metadata": {},
   "outputs": [],
   "source": [
    "rating = df2['rating']"
   ]
  },
  {
   "cell_type": "code",
   "execution_count": 38,
   "metadata": {},
   "outputs": [
    {
     "data": {
      "text/plain": [
       "pandas.core.series.Series"
      ]
     },
     "execution_count": 38,
     "metadata": {},
     "output_type": "execute_result"
    }
   ],
   "source": [
    "type(rating)"
   ]
  },
  {
   "cell_type": "code",
   "execution_count": 39,
   "metadata": {},
   "outputs": [
    {
     "data": {
      "text/plain": [
       "name\n",
       "The Shining                                        R\n",
       "The Blue Lagoon                                    R\n",
       "Star Wars: Episode V - The Empire Strikes Back    PG\n",
       "Airplane!                                         PG\n",
       "Caddyshack                                         R\n",
       "Name: rating, dtype: object"
      ]
     },
     "execution_count": 39,
     "metadata": {},
     "output_type": "execute_result"
    }
   ],
   "source": [
    "rating.head()"
   ]
  },
  {
   "cell_type": "code",
   "execution_count": 40,
   "metadata": {},
   "outputs": [
    {
     "data": {
      "text/plain": [
       "rating\n",
       "R            3695\n",
       "PG-13        2112\n",
       "PG           1252\n",
       "Not Rated     283\n",
       "G             153\n",
       "Unrated        52\n",
       "NC-17          23\n",
       "TV-MA           9\n",
       "TV-PG           5\n",
       "X               3\n",
       "Approved        1\n",
       "TV-14           1\n",
       "Name: count, dtype: int64"
      ]
     },
     "execution_count": 40,
     "metadata": {},
     "output_type": "execute_result"
    }
   ],
   "source": [
    "rating.value_counts()"
   ]
  },
  {
   "cell_type": "code",
   "execution_count": 41,
   "metadata": {},
   "outputs": [
    {
     "data": {
      "text/plain": [
       "rating\n",
       "Approved        1\n",
       "G             153\n",
       "NC-17          23\n",
       "Not Rated     283\n",
       "PG           1252\n",
       "PG-13        2112\n",
       "R            3695\n",
       "TV-14           1\n",
       "TV-MA           9\n",
       "TV-PG           5\n",
       "Unrated        52\n",
       "X               3\n",
       "Name: count, dtype: int64"
      ]
     },
     "execution_count": 41,
     "metadata": {},
     "output_type": "execute_result"
    }
   ],
   "source": [
    "rating.value_counts().sort_index()"
   ]
  },
  {
   "cell_type": "code",
   "execution_count": 42,
   "metadata": {},
   "outputs": [
    {
     "data": {
      "text/plain": [
       "rating\n",
       "Approved        1\n",
       "TV-14           1\n",
       "X               3\n",
       "TV-PG           5\n",
       "TV-MA           9\n",
       "NC-17          23\n",
       "Unrated        52\n",
       "G             153\n",
       "Not Rated     283\n",
       "PG           1252\n",
       "PG-13        2112\n",
       "R            3695\n",
       "Name: count, dtype: int64"
      ]
     },
     "execution_count": 42,
     "metadata": {},
     "output_type": "execute_result"
    }
   ],
   "source": [
    "rating.value_counts(ascending=True)"
   ]
  },
  {
   "cell_type": "code",
   "execution_count": 43,
   "metadata": {},
   "outputs": [
    {
     "data": {
      "text/plain": [
       "rating\n",
       "R            0.486889\n",
       "PG-13        0.278298\n",
       "PG           0.164976\n",
       "Not Rated    0.037291\n",
       "G            0.020161\n",
       "Unrated      0.006852\n",
       "NC-17        0.003031\n",
       "TV-MA        0.001186\n",
       "TV-PG        0.000659\n",
       "X            0.000395\n",
       "Approved     0.000132\n",
       "TV-14        0.000132\n",
       "Name: proportion, dtype: float64"
      ]
     },
     "execution_count": 43,
     "metadata": {},
     "output_type": "execute_result"
    }
   ],
   "source": [
    "rating.value_counts(normalize=\"False\")"
   ]
  },
  {
   "cell_type": "code",
   "execution_count": 44,
   "metadata": {},
   "outputs": [
    {
     "data": {
      "text/plain": [
       "rating\n",
       "R            48.688892\n",
       "PG-13        27.829754\n",
       "PG           16.497562\n",
       "Not Rated     3.729082\n",
       "G             2.016076\n",
       "Unrated       0.685202\n",
       "NC-17         0.303070\n",
       "TV-MA         0.118593\n",
       "TV-PG         0.065885\n",
       "X             0.039531\n",
       "Approved      0.013177\n",
       "TV-14         0.013177\n",
       "Name: proportion, dtype: float64"
      ]
     },
     "execution_count": 44,
     "metadata": {},
     "output_type": "execute_result"
    }
   ],
   "source": [
    "rating.value_counts(normalize=True)*100"
   ]
  },
  {
   "cell_type": "code",
   "execution_count": 45,
   "metadata": {},
   "outputs": [
    {
     "data": {
      "text/plain": [
       "rating\n",
       "R            48.7\n",
       "PG-13        27.8\n",
       "PG           16.5\n",
       "Not Rated     3.7\n",
       "G             2.0\n",
       "Unrated       0.7\n",
       "NC-17         0.3\n",
       "TV-MA         0.1\n",
       "TV-PG         0.1\n",
       "X             0.0\n",
       "Approved      0.0\n",
       "TV-14         0.0\n",
       "Name: proportion, dtype: float64"
      ]
     },
     "execution_count": 45,
     "metadata": {},
     "output_type": "execute_result"
    }
   ],
   "source": [
    "rating.value_counts(normalize=True).mul(100).round(1)"
   ]
  },
  {
   "cell_type": "code",
   "execution_count": 46,
   "metadata": {},
   "outputs": [],
   "source": [
    "score = df2.score"
   ]
  },
  {
   "cell_type": "code",
   "execution_count": 47,
   "metadata": {},
   "outputs": [
    {
     "data": {
      "text/plain": [
       "score\n",
       "6.6    359\n",
       "6.4    351\n",
       "6.2    346\n",
       "6.7    332\n",
       "6.5    331\n",
       "      ... \n",
       "2.8      2\n",
       "9.3      1\n",
       "2.6      1\n",
       "2.3      1\n",
       "9.0      1\n",
       "Name: count, Length: 72, dtype: int64"
      ]
     },
     "execution_count": 47,
     "metadata": {},
     "output_type": "execute_result"
    }
   ],
   "source": [
    "score.value_counts()"
   ]
  },
  {
   "cell_type": "code",
   "execution_count": 48,
   "metadata": {},
   "outputs": [
    {
     "data": {
      "text/plain": [
       "(6.34, 7.82]                  3858\n",
       "(4.86, 6.34]                  2964\n",
       "(3.38, 4.86]                   438\n",
       "(7.82, 9.3]                    354\n",
       "(1.8920000000000001, 3.38]      49\n",
       "Name: count, dtype: int64"
      ]
     },
     "execution_count": 48,
     "metadata": {},
     "output_type": "execute_result"
    }
   ],
   "source": [
    "score.value_counts(bins=5)"
   ]
  },
  {
   "cell_type": "code",
   "execution_count": 49,
   "metadata": {},
   "outputs": [
    {
     "data": {
      "text/plain": [
       "(1.8920000000000001, 3.38]      49\n",
       "(3.38, 4.86]                   438\n",
       "(4.86, 6.34]                  2964\n",
       "(6.34, 7.82]                  3858\n",
       "(7.82, 9.3]                    354\n",
       "Name: count, dtype: int64"
      ]
     },
     "execution_count": 49,
     "metadata": {},
     "output_type": "execute_result"
    }
   ],
   "source": [
    "score.value_counts(bins=5).sort_index()"
   ]
  },
  {
   "cell_type": "code",
   "execution_count": 50,
   "metadata": {},
   "outputs": [
    {
     "data": {
      "text/plain": [
       "(0.999, 3.0]      34\n",
       "(3.0, 5.0]       601\n",
       "(5.0, 7.0]      5052\n",
       "(7.0, 9.0]      1975\n",
       "(9.0, 10.0]        1\n",
       "Name: count, dtype: int64"
      ]
     },
     "execution_count": 50,
     "metadata": {},
     "output_type": "execute_result"
    }
   ],
   "source": [
    "score.value_counts(bins=[1,3,5,7,9,10]).sort_index()"
   ]
  },
  {
   "cell_type": "code",
   "execution_count": 51,
   "metadata": {},
   "outputs": [
    {
     "data": {
      "text/plain": [
       "(1.8920000000000001, 3.38]      49\n",
       "(3.38, 4.86]                   438\n",
       "(4.86, 6.34]                  2964\n",
       "(6.34, 7.82]                  3858\n",
       "(7.82, 9.3]                    354\n",
       "Name: count, dtype: int64"
      ]
     },
     "execution_count": 51,
     "metadata": {},
     "output_type": "execute_result"
    }
   ],
   "source": [
    "score.value_counts(bins=5, sort=False)"
   ]
  },
  {
   "cell_type": "code",
   "execution_count": 52,
   "metadata": {},
   "outputs": [
    {
     "data": {
      "text/plain": [
       "rating\n",
       "R            3695\n",
       "PG           1252\n",
       "G             153\n",
       "Not Rated     283\n",
       "NC-17          23\n",
       "Approved        1\n",
       "TV-PG           5\n",
       "PG-13        2112\n",
       "Unrated        52\n",
       "X               3\n",
       "TV-MA           9\n",
       "TV-14           1\n",
       "Name: count, dtype: int64"
      ]
     },
     "execution_count": 52,
     "metadata": {},
     "output_type": "execute_result"
    }
   ],
   "source": [
    "rating.value_counts(sort=False)"
   ]
  },
  {
   "cell_type": "code",
   "execution_count": 53,
   "metadata": {},
   "outputs": [
    {
     "data": {
      "text/plain": [
       "7663"
      ]
     },
     "execution_count": 53,
     "metadata": {},
     "output_type": "execute_result"
    }
   ],
   "source": [
    "score.count()"
   ]
  },
  {
   "cell_type": "code",
   "execution_count": 54,
   "metadata": {},
   "outputs": [
    {
     "data": {
      "text/plain": [
       "7666"
      ]
     },
     "execution_count": 54,
     "metadata": {},
     "output_type": "execute_result"
    }
   ],
   "source": [
    "len(score)"
   ]
  },
  {
   "cell_type": "code",
   "execution_count": 55,
   "metadata": {},
   "outputs": [
    {
     "data": {
      "text/plain": [
       "score\n",
       "8.9    3\n",
       "1.9    3\n",
       "NaN    3\n",
       "2.1    2\n",
       "2.4    2\n",
       "2.8    2\n",
       "9.3    1\n",
       "2.6    1\n",
       "2.3    1\n",
       "9.0    1\n",
       "Name: count, dtype: int64"
      ]
     },
     "execution_count": 55,
     "metadata": {},
     "output_type": "execute_result"
    }
   ],
   "source": [
    "score.value_counts(dropna=False).tail(10)"
   ]
  },
  {
   "cell_type": "code",
   "execution_count": 56,
   "metadata": {},
   "outputs": [
    {
     "data": {
      "text/plain": [
       "score\n",
       "8.7    4\n",
       "8.9    3\n",
       "1.9    3\n",
       "2.1    2\n",
       "2.4    2\n",
       "2.8    2\n",
       "9.3    1\n",
       "2.6    1\n",
       "2.3    1\n",
       "9.0    1\n",
       "Name: count, dtype: int64"
      ]
     },
     "execution_count": 56,
     "metadata": {},
     "output_type": "execute_result"
    }
   ],
   "source": [
    "score.value_counts().tail(10)"
   ]
  },
  {
   "cell_type": "code",
   "execution_count": 57,
   "metadata": {},
   "outputs": [
    {
     "data": {
      "text/html": [
       "<div>\n",
       "<style scoped>\n",
       "    .dataframe tbody tr th:only-of-type {\n",
       "        vertical-align: middle;\n",
       "    }\n",
       "\n",
       "    .dataframe tbody tr th {\n",
       "        vertical-align: top;\n",
       "    }\n",
       "\n",
       "    .dataframe thead th {\n",
       "        text-align: right;\n",
       "    }\n",
       "</style>\n",
       "<table border=\"1\" class=\"dataframe\">\n",
       "  <thead>\n",
       "    <tr style=\"text-align: right;\">\n",
       "      <th></th>\n",
       "      <th>rating</th>\n",
       "      <th>genre</th>\n",
       "      <th>year</th>\n",
       "      <th>release_date</th>\n",
       "      <th>release_country</th>\n",
       "      <th>score</th>\n",
       "      <th>votes</th>\n",
       "      <th>director</th>\n",
       "      <th>writer</th>\n",
       "      <th>star</th>\n",
       "      <th>country</th>\n",
       "      <th>budget</th>\n",
       "      <th>gross</th>\n",
       "      <th>company</th>\n",
       "      <th>runtime</th>\n",
       "    </tr>\n",
       "    <tr>\n",
       "      <th>name</th>\n",
       "      <th></th>\n",
       "      <th></th>\n",
       "      <th></th>\n",
       "      <th></th>\n",
       "      <th></th>\n",
       "      <th></th>\n",
       "      <th></th>\n",
       "      <th></th>\n",
       "      <th></th>\n",
       "      <th></th>\n",
       "      <th></th>\n",
       "      <th></th>\n",
       "      <th></th>\n",
       "      <th></th>\n",
       "      <th></th>\n",
       "    </tr>\n",
       "  </thead>\n",
       "  <tbody>\n",
       "    <tr>\n",
       "      <th>The Shining</th>\n",
       "      <td>R</td>\n",
       "      <td>Drama</td>\n",
       "      <td>1980</td>\n",
       "      <td>June 13, 1980</td>\n",
       "      <td>United States</td>\n",
       "      <td>8.4</td>\n",
       "      <td>927000.0</td>\n",
       "      <td>Stanley Kubrick</td>\n",
       "      <td>Stephen King</td>\n",
       "      <td>Jack Nicholson</td>\n",
       "      <td>United Kingdom</td>\n",
       "      <td>19000000.0</td>\n",
       "      <td>46998772.0</td>\n",
       "      <td>Warner Bros.</td>\n",
       "      <td>146.0</td>\n",
       "    </tr>\n",
       "    <tr>\n",
       "      <th>The Blue Lagoon</th>\n",
       "      <td>R</td>\n",
       "      <td>Adventure</td>\n",
       "      <td>1980</td>\n",
       "      <td>July 2, 1980</td>\n",
       "      <td>United States</td>\n",
       "      <td>5.8</td>\n",
       "      <td>65000.0</td>\n",
       "      <td>Randal Kleiser</td>\n",
       "      <td>Henry De Vere Stacpoole</td>\n",
       "      <td>Brooke Shields</td>\n",
       "      <td>United States</td>\n",
       "      <td>4500000.0</td>\n",
       "      <td>58853106.0</td>\n",
       "      <td>Columbia Pictures</td>\n",
       "      <td>104.0</td>\n",
       "    </tr>\n",
       "    <tr>\n",
       "      <th>Star Wars: Episode V - The Empire Strikes Back</th>\n",
       "      <td>PG</td>\n",
       "      <td>Action</td>\n",
       "      <td>1980</td>\n",
       "      <td>June 20, 1980</td>\n",
       "      <td>United States</td>\n",
       "      <td>8.7</td>\n",
       "      <td>1200000.0</td>\n",
       "      <td>Irvin Kershner</td>\n",
       "      <td>Leigh Brackett</td>\n",
       "      <td>Mark Hamill</td>\n",
       "      <td>United States</td>\n",
       "      <td>18000000.0</td>\n",
       "      <td>538375067.0</td>\n",
       "      <td>Lucasfilm</td>\n",
       "      <td>124.0</td>\n",
       "    </tr>\n",
       "    <tr>\n",
       "      <th>Airplane!</th>\n",
       "      <td>PG</td>\n",
       "      <td>Comedy</td>\n",
       "      <td>1980</td>\n",
       "      <td>July 2, 1980</td>\n",
       "      <td>United States</td>\n",
       "      <td>7.7</td>\n",
       "      <td>221000.0</td>\n",
       "      <td>Jim Abrahams</td>\n",
       "      <td>Jim Abrahams</td>\n",
       "      <td>Robert Hays</td>\n",
       "      <td>United States</td>\n",
       "      <td>3500000.0</td>\n",
       "      <td>83453539.0</td>\n",
       "      <td>Paramount Pictures</td>\n",
       "      <td>88.0</td>\n",
       "    </tr>\n",
       "    <tr>\n",
       "      <th>Caddyshack</th>\n",
       "      <td>R</td>\n",
       "      <td>Comedy</td>\n",
       "      <td>1980</td>\n",
       "      <td>July 25, 1980</td>\n",
       "      <td>United States</td>\n",
       "      <td>7.3</td>\n",
       "      <td>108000.0</td>\n",
       "      <td>Harold Ramis</td>\n",
       "      <td>Brian Doyle-Murray</td>\n",
       "      <td>Chevy Chase</td>\n",
       "      <td>United States</td>\n",
       "      <td>6000000.0</td>\n",
       "      <td>39846344.0</td>\n",
       "      <td>Orion Pictures</td>\n",
       "      <td>98.0</td>\n",
       "    </tr>\n",
       "  </tbody>\n",
       "</table>\n",
       "</div>"
      ],
      "text/plain": [
       "                                               rating      genre  year  \\\n",
       "name                                                                     \n",
       "The Shining                                         R      Drama  1980   \n",
       "The Blue Lagoon                                     R  Adventure  1980   \n",
       "Star Wars: Episode V - The Empire Strikes Back     PG     Action  1980   \n",
       "Airplane!                                          PG     Comedy  1980   \n",
       "Caddyshack                                          R     Comedy  1980   \n",
       "\n",
       "                                                 release_date release_country  \\\n",
       "name                                                                            \n",
       "The Shining                                     June 13, 1980   United States   \n",
       "The Blue Lagoon                                  July 2, 1980   United States   \n",
       "Star Wars: Episode V - The Empire Strikes Back  June 20, 1980   United States   \n",
       "Airplane!                                        July 2, 1980   United States   \n",
       "Caddyshack                                      July 25, 1980   United States   \n",
       "\n",
       "                                                score      votes  \\\n",
       "name                                                               \n",
       "The Shining                                       8.4   927000.0   \n",
       "The Blue Lagoon                                   5.8    65000.0   \n",
       "Star Wars: Episode V - The Empire Strikes Back    8.7  1200000.0   \n",
       "Airplane!                                         7.7   221000.0   \n",
       "Caddyshack                                        7.3   108000.0   \n",
       "\n",
       "                                                       director  \\\n",
       "name                                                              \n",
       "The Shining                                     Stanley Kubrick   \n",
       "The Blue Lagoon                                  Randal Kleiser   \n",
       "Star Wars: Episode V - The Empire Strikes Back   Irvin Kershner   \n",
       "Airplane!                                          Jim Abrahams   \n",
       "Caddyshack                                         Harold Ramis   \n",
       "\n",
       "                                                                 writer  \\\n",
       "name                                                                      \n",
       "The Shining                                                Stephen King   \n",
       "The Blue Lagoon                                 Henry De Vere Stacpoole   \n",
       "Star Wars: Episode V - The Empire Strikes Back           Leigh Brackett   \n",
       "Airplane!                                                  Jim Abrahams   \n",
       "Caddyshack                                           Brian Doyle-Murray   \n",
       "\n",
       "                                                          star  \\\n",
       "name                                                             \n",
       "The Shining                                     Jack Nicholson   \n",
       "The Blue Lagoon                                 Brooke Shields   \n",
       "Star Wars: Episode V - The Empire Strikes Back     Mark Hamill   \n",
       "Airplane!                                          Robert Hays   \n",
       "Caddyshack                                         Chevy Chase   \n",
       "\n",
       "                                                       country      budget  \\\n",
       "name                                                                         \n",
       "The Shining                                     United Kingdom  19000000.0   \n",
       "The Blue Lagoon                                  United States   4500000.0   \n",
       "Star Wars: Episode V - The Empire Strikes Back   United States  18000000.0   \n",
       "Airplane!                                        United States   3500000.0   \n",
       "Caddyshack                                       United States   6000000.0   \n",
       "\n",
       "                                                      gross  \\\n",
       "name                                                          \n",
       "The Shining                                      46998772.0   \n",
       "The Blue Lagoon                                  58853106.0   \n",
       "Star Wars: Episode V - The Empire Strikes Back  538375067.0   \n",
       "Airplane!                                        83453539.0   \n",
       "Caddyshack                                       39846344.0   \n",
       "\n",
       "                                                           company  runtime  \n",
       "name                                                                         \n",
       "The Shining                                           Warner Bros.    146.0  \n",
       "The Blue Lagoon                                  Columbia Pictures    104.0  \n",
       "Star Wars: Episode V - The Empire Strikes Back           Lucasfilm    124.0  \n",
       "Airplane!                                       Paramount Pictures     88.0  \n",
       "Caddyshack                                          Orion Pictures     98.0  "
      ]
     },
     "execution_count": 57,
     "metadata": {},
     "output_type": "execute_result"
    }
   ],
   "source": [
    "df3 = pd.read_csv('C:/Users/Mahi/Desktop/project Pandas/Data/movies.csv', index_col='name')\n",
    "df3.head()"
   ]
  },
  {
   "cell_type": "code",
   "execution_count": 58,
   "metadata": {},
   "outputs": [],
   "source": [
    "score = df3.score"
   ]
  },
  {
   "cell_type": "code",
   "execution_count": 59,
   "metadata": {},
   "outputs": [],
   "source": [
    "def verbal_score(s):\n",
    "    if s >= 7.5:\n",
    "        return 'High'\n",
    "    elif s >= 6.5:\n",
    "        return 'Medium'\n",
    "    else:\n",
    "        return 'Low'"
   ]
  },
  {
   "cell_type": "code",
   "execution_count": 60,
   "metadata": {},
   "outputs": [
    {
     "data": {
      "text/plain": [
       "'High'"
      ]
     },
     "execution_count": 60,
     "metadata": {},
     "output_type": "execute_result"
    }
   ],
   "source": [
    "verbal_score(8)"
   ]
  },
  {
   "cell_type": "code",
   "execution_count": 61,
   "metadata": {},
   "outputs": [
    {
     "data": {
      "text/plain": [
       "'Low'"
      ]
     },
     "execution_count": 61,
     "metadata": {},
     "output_type": "execute_result"
    }
   ],
   "source": [
    "verbal_score(3)"
   ]
  },
  {
   "cell_type": "code",
   "execution_count": 62,
   "metadata": {},
   "outputs": [
    {
     "data": {
      "text/plain": [
       "'Medium'"
      ]
     },
     "execution_count": 62,
     "metadata": {},
     "output_type": "execute_result"
    }
   ],
   "source": [
    "verbal_score(6.8)"
   ]
  },
  {
   "cell_type": "code",
   "execution_count": 63,
   "metadata": {},
   "outputs": [
    {
     "ename": "ValueError",
     "evalue": "The truth value of a Series is ambiguous. Use a.empty, a.bool(), a.item(), a.any() or a.all().",
     "output_type": "error",
     "traceback": [
      "\u001b[1;31m---------------------------------------------------------------------------\u001b[0m",
      "\u001b[1;31mValueError\u001b[0m                                Traceback (most recent call last)",
      "\u001b[1;32m~\\AppData\\Local\\Temp\\ipykernel_29168\\1243638485.py\u001b[0m in \u001b[0;36m?\u001b[1;34m()\u001b[0m\n\u001b[1;32m----> 1\u001b[1;33m \u001b[0mverbal_score\u001b[0m\u001b[1;33m(\u001b[0m\u001b[0mscore\u001b[0m\u001b[1;33m)\u001b[0m\u001b[1;33m\u001b[0m\u001b[1;33m\u001b[0m\u001b[0m\n\u001b[0m",
      "\u001b[1;32m~\\AppData\\Local\\Temp\\ipykernel_29168\\3365597354.py\u001b[0m in \u001b[0;36m?\u001b[1;34m(s)\u001b[0m\n\u001b[0;32m      1\u001b[0m \u001b[1;32mdef\u001b[0m \u001b[0mverbal_score\u001b[0m\u001b[1;33m(\u001b[0m\u001b[0ms\u001b[0m\u001b[1;33m)\u001b[0m\u001b[1;33m:\u001b[0m\u001b[1;33m\u001b[0m\u001b[1;33m\u001b[0m\u001b[0m\n\u001b[1;32m----> 2\u001b[1;33m     \u001b[1;32mif\u001b[0m \u001b[0ms\u001b[0m \u001b[1;33m>=\u001b[0m \u001b[1;36m7.5\u001b[0m\u001b[1;33m:\u001b[0m\u001b[1;33m\u001b[0m\u001b[1;33m\u001b[0m\u001b[0m\n\u001b[0m\u001b[0;32m      3\u001b[0m         \u001b[1;32mreturn\u001b[0m \u001b[1;34m'High'\u001b[0m\u001b[1;33m\u001b[0m\u001b[1;33m\u001b[0m\u001b[0m\n\u001b[0;32m      4\u001b[0m     \u001b[1;32melif\u001b[0m \u001b[0ms\u001b[0m \u001b[1;33m>=\u001b[0m \u001b[1;36m6.5\u001b[0m\u001b[1;33m:\u001b[0m\u001b[1;33m\u001b[0m\u001b[1;33m\u001b[0m\u001b[0m\n\u001b[0;32m      5\u001b[0m         \u001b[1;32mreturn\u001b[0m \u001b[1;34m'Medium'\u001b[0m\u001b[1;33m\u001b[0m\u001b[1;33m\u001b[0m\u001b[0m\n",
      "\u001b[1;32mg:\\Python\\Lib\\site-packages\\pandas\\core\\generic.py\u001b[0m in \u001b[0;36m?\u001b[1;34m(self)\u001b[0m\n\u001b[0;32m   1575\u001b[0m     \u001b[1;33m@\u001b[0m\u001b[0mfinal\u001b[0m\u001b[1;33m\u001b[0m\u001b[1;33m\u001b[0m\u001b[0m\n\u001b[0;32m   1576\u001b[0m     \u001b[1;32mdef\u001b[0m \u001b[0m__nonzero__\u001b[0m\u001b[1;33m(\u001b[0m\u001b[0mself\u001b[0m\u001b[1;33m)\u001b[0m \u001b[1;33m->\u001b[0m \u001b[0mNoReturn\u001b[0m\u001b[1;33m:\u001b[0m\u001b[1;33m\u001b[0m\u001b[1;33m\u001b[0m\u001b[0m\n\u001b[1;32m-> 1577\u001b[1;33m         raise ValueError(\n\u001b[0m\u001b[0;32m   1578\u001b[0m             \u001b[1;33mf\"\u001b[0m\u001b[1;33mThe truth value of a \u001b[0m\u001b[1;33m{\u001b[0m\u001b[0mtype\u001b[0m\u001b[1;33m(\u001b[0m\u001b[0mself\u001b[0m\u001b[1;33m)\u001b[0m\u001b[1;33m.\u001b[0m\u001b[0m__name__\u001b[0m\u001b[1;33m}\u001b[0m\u001b[1;33m is ambiguous. \u001b[0m\u001b[1;33m\"\u001b[0m\u001b[1;33m\u001b[0m\u001b[1;33m\u001b[0m\u001b[0m\n\u001b[0;32m   1579\u001b[0m             \u001b[1;34m\"Use a.empty, a.bool(), a.item(), a.any() or a.all().\"\u001b[0m\u001b[1;33m\u001b[0m\u001b[1;33m\u001b[0m\u001b[0m\n\u001b[0;32m   1580\u001b[0m         \u001b[1;33m)\u001b[0m\u001b[1;33m\u001b[0m\u001b[1;33m\u001b[0m\u001b[0m\n",
      "\u001b[1;31mValueError\u001b[0m: The truth value of a Series is ambiguous. Use a.empty, a.bool(), a.item(), a.any() or a.all()."
     ]
    }
   ],
   "source": [
    "verbal_score(score)"
   ]
  },
  {
   "cell_type": "code",
   "execution_count": null,
   "metadata": {},
   "outputs": [],
   "source": [
    "score.apply(verbal_score)"
   ]
  },
  {
   "cell_type": "code",
   "execution_count": null,
   "metadata": {},
   "outputs": [
    {
     "data": {
      "text/plain": [
       "score\n",
       "Low       50.0\n",
       "Medium    38.0\n",
       "High      13.0\n",
       "Name: proportion, dtype: float64"
      ]
     },
     "execution_count": 71,
     "metadata": {},
     "output_type": "execute_result"
    }
   ],
   "source": [
    "score.apply(verbal_score).value_counts(\n",
    "    normalize=True).mul(100).round()"
   ]
  },
  {
   "cell_type": "code",
   "execution_count": null,
   "metadata": {},
   "outputs": [
    {
     "data": {
      "text/plain": [
       "name\n",
       "The Shining                                       8\n",
       "The Blue Lagoon                                   6\n",
       "Star Wars: Episode V - The Empire Strikes Back    9\n",
       "Airplane!                                         8\n",
       "Caddyshack                                        7\n",
       "                                                 ..\n",
       "Aloha Surf Hotel                                  7\n",
       "More to Life                                      3\n",
       "Dream Round                                       5\n",
       "Saving Mbango                                     6\n",
       "Tee em el                                         6\n",
       "Name: score, Length: 7663, dtype: int64"
      ]
     },
     "execution_count": 68,
     "metadata": {},
     "output_type": "execute_result"
    }
   ],
   "source": [
    "score.dropna().apply(round)"
   ]
  }
 ],
 "metadata": {
  "kernelspec": {
   "display_name": "Python 3",
   "language": "python",
   "name": "python3"
  },
  "language_info": {
   "codemirror_mode": {
    "name": "ipython",
    "version": 3
   },
   "file_extension": ".py",
   "mimetype": "text/x-python",
   "name": "python",
   "nbconvert_exporter": "python",
   "pygments_lexer": "ipython3",
   "version": "3.12.2"
  }
 },
 "nbformat": 4,
 "nbformat_minor": 2
}
